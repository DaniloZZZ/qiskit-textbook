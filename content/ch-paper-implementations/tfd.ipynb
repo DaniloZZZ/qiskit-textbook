{
 "cells": [
  {
   "cell_type": "markdown",
   "metadata": {},
   "source": [
    "## Variational Thermofield Double State Generation"
   ]
  },
  {
   "cell_type": "code",
   "execution_count": 2,
   "metadata": {},
   "outputs": [],
   "source": [
    "# Importing all of the necessary dependencies\n",
    "\n",
    "import qiskit as \n",
    "import random\n",
    "import numpy as np\n",
    "import math\n",
    "from scipy.optimize import minimize\n",
    "from matplotlib import pyplot as plt\n",
    "import scipy"
   ]
  },
  {
   "cell_type": "markdown",
   "metadata": {},
   "source": [
    "The goal of this Notebook is to outline a the variational process outlined [this paper]('https://arxiv.org/abs/1906.02699') in order to generate Thermofield Double States (TFD states), which are defined as follows:\n",
    "\n",
    "<br>\n",
    "$$|TFD\\rangle \\ = \\ \\frac{1}{\\sqrt{Z(\\beta)}} \\displaystyle\\sum_{n} e^{- \\beta E_n / 2} |E_n\\rangle_A \\otimes |E_n'\\rangle_B$$\n",
    "<br>\n",
    "\n",
    "Notice how we are concered with the tensor product of two states for each term in the sum (we are concerned with two different systems of qubits, register $A$ and register $B$). We also define $H_A$ to be the Hamiltonian governing the dynamics of the qubits in the first register, with $H_A |E_n\\rangle_A \\ = \\ E_n |E_n\\rangle_A$, thus making our TFD state depend on both the energy eigenstates and the energy eigenvalues. It is also important to note that $\\beta$ is defined as the inverse temperature of the system that we are describing, $\\beta \\ = \\ 1/T$. $Z(\\beta)$ denotes the partition function, which is given by:\n",
    "\n",
    "<br>\n",
    "$$Z(\\beta) \\ = \\ \\displaystyle\\sum_{n} e^{- \\beta E_n}$$\n",
    "<br>\n",
    "\n",
    "Finally, we define $E_n'\\rangle_B$ to be a vector in the state space described by the second qubit register, $B$, specifically, the time-reversed counterpart of $|E_n\\rangle_A$:\n",
    "\n",
    "<br>\n",
    "$$E_n'\\rangle_B \\ = \\ \\Theta |E_n\\rangle_A \\ = \\ e^{i H_A t / \\hbar} |E_n\\rangle_A$$\n",
    "<br>\n",
    "\n",
    "**Part 2: Application**\n",
    "\n",
    "We can begin by defining all of the necessary variables to run our simualtion, including the value of $\\beta$, the transverse field strength, and the depth of the QAOA circuit. We will also use this block of code to intialize our two qubit registers, $A$ and $B$:"
   ]
  },
  {
   "cell_type": "code",
   "execution_count": null,
   "metadata": {},
   "outputs": [],
   "source": []
  }
 ],
 "metadata": {
  "kernelspec": {
   "display_name": "Python 3",
   "language": "python",
   "name": "python3"
  },
  "language_info": {
   "codemirror_mode": {
    "name": "ipython",
    "version": 3
   },
   "file_extension": ".py",
   "mimetype": "text/x-python",
   "name": "python",
   "nbconvert_exporter": "python",
   "pygments_lexer": "ipython3",
   "version": "3.7.5"
  }
 },
 "nbformat": 4,
 "nbformat_minor": 4
}
